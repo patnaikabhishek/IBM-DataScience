{
 "cells": [
  {
   "cell_type": "markdown",
   "id": "d4a6ad53",
   "metadata": {},
   "source": [
    "# Data Science Tools and Techniques"
   ]
  },
  {
   "cell_type": "markdown",
   "id": "45f8524b",
   "metadata": {},
   "source": [
    "In this notebook, Data Science Tools and Ecosystem are summarized."
   ]
  },
  {
   "cell_type": "markdown",
   "id": "7196fe9d",
   "metadata": {},
   "source": [
    "## Data Science Languages\n",
    "\n",
    "Some of the popular languages that Data Scientists use are:\n",
    "\n",
    "- Python\n",
    "- R\n",
    "- Julia\n",
    "- SQL"
   ]
  },
  {
   "cell_type": "markdown",
   "id": "543ea453",
   "metadata": {},
   "source": [
    "## Data Science Libraries\n",
    "\n",
    "Some of the commonly used libraries used by Data Scientists include:\n",
    "\n",
    "- NumPy\n",
    "- Pandas\n",
    "- Matplotlib\n",
    "- Seaborn\n",
    "- Scikit-learn\n",
    "- TensorFlow\n",
    "- PyTorch"
   ]
  },
  {
   "cell_type": "markdown",
   "id": "788427b5",
   "metadata": {},
   "source": [
    "## Data Science Tools\n",
    "\n",
    "| Category      | Tools                |\n",
    "|---------------|----------------------|\n",
    "| Data Cleaning | OpenRefine, Trifacta |\n",
    "| Data Analysis | Jupyter, RStudio    |\n",
    "| Visualization | Tableau, Plotly      |\n",
    "| Database      | MySQL, PostgreSQL   |\n"
   ]
  },
  {
   "cell_type": "markdown",
   "id": "bff503d2",
   "metadata": {},
   "source": [
    "### Arithmetic Expressions\n",
    "\n",
    "Below are a few examples of evaluating arithmetic expressions in Python."
   ]
  },
  {
   "cell_type": "code",
   "execution_count": 4,
   "id": "df69d9b0",
   "metadata": {},
   "outputs": [
    {
     "name": "stdout",
     "output_type": "stream",
     "text": [
      "Result: 17\n"
     ]
    }
   ],
   "source": [
    "# This is a simple arithmetic expression to multiply then add integers.\n",
    "result = (3 * 4) + 5\n",
    "print(\"Result:\", result)"
   ]
  },
  {
   "cell_type": "code",
   "execution_count": 5,
   "id": "5652f600",
   "metadata": {},
   "outputs": [
    {
     "name": "stdout",
     "output_type": "stream",
     "text": [
      "Hours: 3.3333333333333335\n"
     ]
    }
   ],
   "source": [
    "# This will convert 200 minutes to hours by dividing by 60.\n",
    "minutes = 200\n",
    "hours = minutes / 60\n",
    "print(\"Hours:\", hours)"
   ]
  },
  {
   "cell_type": "markdown",
   "id": "8aa34aa7",
   "metadata": {},
   "source": [
    "## Objectives\n",
    "\n",
    "\n",
    "**Objectives:**\n",
    "\n",
    "- List popular languages for Data Science.\n",
    "- Explore essential Data Science libraries.\n",
    "- Understand common Data Science tools and techniques.\n",
    "- Perform basic arithmetic operations.\n",
    "- Convert units of measurement in Python.\n"
   ]
  },
  {
   "cell_type": "markdown",
   "id": "3f3f9617",
   "metadata": {},
   "source": [
    "## Author\n",
    "\n",
    "Abhishek Patnaik"
   ]
  }
 ],
 "metadata": {
  "kernelspec": {
   "display_name": "Python 3 (ipykernel)",
   "language": "python",
   "name": "python3"
  },
  "language_info": {
   "codemirror_mode": {
    "name": "ipython",
    "version": 3
   },
   "file_extension": ".py",
   "mimetype": "text/x-python",
   "name": "python",
   "nbconvert_exporter": "python",
   "pygments_lexer": "ipython3",
   "version": "3.10.4"
  }
 },
 "nbformat": 4,
 "nbformat_minor": 5
}
